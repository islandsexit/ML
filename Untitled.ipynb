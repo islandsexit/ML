{
 "cells": [
  {
   "cell_type": "code",
   "execution_count": 2,
   "metadata": {},
   "outputs": [],
   "source": []
  },
  {
   "cell_type": "code",
   "execution_count": 3,
   "metadata": {},
   "outputs": [],
   "source": []
  },
  {
   "cell_type": "code",
   "execution_count": 4,
   "metadata": {},
   "outputs": [],
   "source": []
  },
  {
   "cell_type": "code",
   "execution_count": 5,
   "metadata": {},
   "outputs": [],
   "source": []
  },
  {
   "cell_type": "code",
   "execution_count": 6,
   "metadata": {},
   "outputs": [
    {
     "name": "stdout",
     "output_type": "stream",
     "text": [
      "\n",
      "Бот: Вас приветствует Бот. Существует несколько команд:\n",
      "!exit - Выход из приложения\n",
      "!predict - Вывод блока компетенции по входным параметрам\n",
      "!datacollecting - Вывод компетенций по входным параметрам\n",
      "!help - Вывод существующих команд\n"
     ]
    }
   ],
   "source": []
  },
  {
   "cell_type": "code",
   "execution_count": 9,
   "metadata": {},
   "outputs": [
    {
     "name": "stdout",
     "output_type": "stream",
     "text": [
      "\n",
      "Пользователь:!predict\n"
     ]
    },
    {
     "ename": "NameError",
     "evalue": "name 'read' is not defined",
     "output_type": "error",
     "traceback": [
      "\u001b[1;31m---------------------------------------------------------------------------\u001b[0m",
      "\u001b[1;31mNameError\u001b[0m                                 Traceback (most recent call last)",
      "\u001b[1;32m<ipython-input-9-6abaefb97166>\u001b[0m in \u001b[0;36m<module>\u001b[1;34m\u001b[0m\n\u001b[0;32m     10\u001b[0m \u001b[1;32mif\u001b[0m \u001b[0minput_text\u001b[0m \u001b[1;33m==\u001b[0m \u001b[1;34m\"!predict\"\u001b[0m\u001b[1;33m:\u001b[0m\u001b[1;33m\u001b[0m\u001b[1;33m\u001b[0m\u001b[0m\n\u001b[0;32m     11\u001b[0m  \u001b[1;31m# Ввод данных\u001b[0m\u001b[1;33m\u001b[0m\u001b[1;33m\u001b[0m\u001b[1;33m\u001b[0m\u001b[0m\n\u001b[1;32m---> 12\u001b[1;33m     \u001b[0mdf\u001b[0m \u001b[1;33m=\u001b[0m \u001b[0mread\u001b[0m\u001b[1;33m(\u001b[0m\u001b[1;32mTrue\u001b[0m\u001b[1;33m)\u001b[0m\u001b[1;33m\u001b[0m\u001b[1;33m\u001b[0m\u001b[0m\n\u001b[0m\u001b[0;32m     13\u001b[0m     \u001b[0mX\u001b[0m \u001b[1;33m=\u001b[0m \u001b[0mfeat\u001b[0m\u001b[1;33m.\u001b[0m\u001b[0mtransform\u001b[0m\u001b[1;33m(\u001b[0m\u001b[0mdf\u001b[0m\u001b[1;33m[\u001b[0m\u001b[1;33m[\u001b[0m\u001b[1;34m'feat'\u001b[0m\u001b[1;33m,\u001b[0m\u001b[1;34m'interaction'\u001b[0m\u001b[1;33m]\u001b[0m\u001b[1;33m]\u001b[0m\u001b[1;33m)\u001b[0m\u001b[1;33m\u001b[0m\u001b[1;33m\u001b[0m\u001b[0m\n\u001b[0;32m     14\u001b[0m     \u001b[0mprint\u001b[0m\u001b[1;33m(\u001b[0m\u001b[0mmodel\u001b[0m\u001b[1;33m.\u001b[0m\u001b[0mpredict\u001b[0m\u001b[1;33m(\u001b[0m\u001b[0mX\u001b[0m\u001b[1;33m)\u001b[0m\u001b[1;33m)\u001b[0m\u001b[1;33m\u001b[0m\u001b[1;33m\u001b[0m\u001b[0m\n",
      "\u001b[1;31mNameError\u001b[0m: name 'read' is not defined"
     ]
    }
   ],
   "source": []
  },
  {
   "cell_type": "code",
   "execution_count": null,
   "metadata": {},
   "outputs": [],
   "source": []
  },
  {
   "cell_type": "code",
   "execution_count": null,
   "metadata": {},
   "outputs": [],
   "source": []
  },
  {
   "cell_type": "code",
   "execution_count": null,
   "metadata": {},
   "outputs": [],
   "source": []
  },
  {
   "cell_type": "code",
   "execution_count": null,
   "metadata": {},
   "outputs": [],
   "source": []
  },
  {
   "cell_type": "code",
   "execution_count": null,
   "metadata": {},
   "outputs": [],
   "source": []
  },
  {
   "cell_type": "code",
   "execution_count": null,
   "metadata": {},
   "outputs": [],
   "source": []
  },
  {
   "cell_type": "code",
   "execution_count": 85,
   "metadata": {},
   "outputs": [],
   "source": [
    "import pandas as pd\n",
    "\n",
    "import pandas as pd\n",
    "import json\n",
    "from geopy.geocoders import Nominatim\n",
    "from datetime import datetime\n",
    "import geocoder\n",
    "path = 'Data/Data.csv'\n",
    "df = pd.DataFrame(columns=[\n",
    "    'gibddid', 'region', 'parent_region', 'date', 'address', 'lat', 'lon',\n",
    "    'feat', 'inj_count', 'dead_count', 'interaction'\n",
    "])\n",
    "\n",
    "\n",
    "def read(pred=False):\n",
    "    global df\n",
    "    g = geocoder.location(input('Где это произошло?'))\n",
    "    print(\"Вы знаете точные координаты\")\n",
    "    answer = input()\n",
    "    if (str(answer) == \"Да\" )|( str(answer) == 'да'):\n",
    "        lat = float(input(\"Введите latitude\"))\n",
    "        lon = float(input(\"Введите lonitude\"))\n",
    "    elif g.latitude == None:\n",
    "        print(\n",
    "            \"Ошибка в геокаддировании адреса, введите пожалуйста ширину и долготу\"\n",
    "        )\n",
    "        lat = float(input(\"Введите latitude\"))\n",
    "        lon = float(input(\"Введите lonitude\"))\n",
    "    else:\n",
    "        lat = g.latitude\n",
    "        lon = g.longitude\n",
    "    print(\"Это сегодня произошло? \")\n",
    "    answer = input()\n",
    "    if answer == \"Да\":\n",
    "        date = datetime.today()\n",
    "    else:\n",
    "        date = datetime.strptime(input(\"Введи дату в формате 18.08.21 18:00\"),\n",
    "                                 '%d.%m.%y %H:%M')\n",
    "    gibddid = input('Введите id происшествия, если есть ')\n",
    "    region = input('Введите region ')\n",
    "    parent_region = input('Введите parent region ')\n",
    "\n",
    "    feat = input(\n",
    "        \"Опишите ДТП (Что находилось рядом, освещение, состояние дороги)\")\n",
    "    inj = int(input('Сколько пострадавших? Ответ в числовом формате'))\n",
    "    dead = int(input('Сколько человек погибло? Ответ в числовом формате'))\n",
    "    intraction = int(4 * int(dead) + int(inj))\n",
    "    df_concat = pd.DataFrame([[\n",
    "        gibddid, region, parent_region, date, g.location, lat, lon, feat, inj,\n",
    "        dead, intraction\n",
    "    ]],\n",
    "                             columns=[\n",
    "                                 'gibddid', 'region', 'parent_region', 'date',\n",
    "                                 'address', 'lat', 'lon', 'feat', 'inj_count',\n",
    "                                 'dead_count', 'interaction'\n",
    "                             ])\n",
    "\n",
    "    if pred:\n",
    "        return df_concat\n",
    "    df = pd.concat([df, df_concat], axis=0\n",
    "                  )\n",
    "    print('Спасибо за ваше участие в опросе!')\n",
    "    df.reset_index()\n",
    "    "
   ]
  }
 ],
 "metadata": {
  "kernelspec": {
   "display_name": "Python 3",
   "language": "python",
   "name": "python3"
  },
  "toc": {
   "base_numbering": 1,
   "nav_menu": {},
   "number_sections": true,
   "sideBar": true,
   "skip_h1_title": false,
   "title_cell": "Table of Contents",
   "title_sidebar": "Contents",
   "toc_cell": false,
   "toc_position": {},
   "toc_section_display": true,
   "toc_window_display": false
  },
  "varInspector": {
   "cols": {
    "lenName": 16,
    "lenType": 16,
    "lenVar": 40
   },
   "kernels_config": {
    "python": {
     "delete_cmd_postfix": "",
     "delete_cmd_prefix": "del ",
     "library": "var_list.py",
     "varRefreshCmd": "print(var_dic_list())"
    },
    "r": {
     "delete_cmd_postfix": ") ",
     "delete_cmd_prefix": "rm(",
     "library": "var_list.r",
     "varRefreshCmd": "cat(var_dic_list()) "
    }
   },
   "types_to_exclude": [
    "module",
    "function",
    "builtin_function_or_method",
    "instance",
    "_Feature"
   ],
   "window_display": false
  }
 },
 "nbformat": 4,
 "nbformat_minor": 4
}
