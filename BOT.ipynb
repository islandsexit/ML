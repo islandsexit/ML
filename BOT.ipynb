{
 "cells": [
  {
   "cell_type": "markdown",
   "metadata": {},
   "source": [
    "Крч тут такая тема, бот чисто прототипный(лень было делать все красиво, потом допилю красоту, т.к все же будет переделано)"
   ]
  },
  {
   "cell_type": "code",
   "execution_count": 1,
   "metadata": {},
   "outputs": [],
   "source": [
    "# Импортирование всех необходимых библиотек\n",
    "import pandas as pd\n",
    "import numpy as np\n",
    "import pickle\n",
    "from sklearn.pipeline import FeatureUnion\n",
    "import re\n",
    "import json\n",
    "import joblib\n",
    "from geopy.geocoders import Nominatim\n",
    "from datetime import datetime\n",
    "import geocoder\n",
    "import warnings\n",
    "pd.options.mode.chained_assignment = None \n",
    "warnings.filterwarnings(\"ignore\")"
   ]
  },
  {
   "cell_type": "code",
   "execution_count": 2,
   "metadata": {},
   "outputs": [],
   "source": [
    "path = 'Data/Data.csv'\n",
    "\n",
    "from nltk.corpus import stopwords\n",
    "stop_words = stopwords.words(\"russian\")"
   ]
  },
  {
   "cell_type": "code",
   "execution_count": 3,
   "metadata": {},
   "outputs": [],
   "source": [
    "# Трансформаторы для получения данных\n",
    "from sklearn.base import BaseEstimator, TransformerMixin\n",
    "# Конвеер для объединения шагов выполнения классификации\n",
    "from sklearn.pipeline import Pipeline\n",
    "# Функция стандартизации числовых значений\n",
    "from sklearn.preprocessing import StandardScaler\n",
    "# Функция преобразования текстовых данных под модель\n",
    "from sklearn.feature_extraction.text import TfidfVectorizer\n",
    "\n",
    "\n",
    "# Класс необходимый для получения и работы с текстовыми признаками\n",
    "class TextSelector(BaseEstimator, TransformerMixin):\n",
    "    def __init__(self, key):\n",
    "        self.key = key\n",
    "    def fit(self, X, y=None):\n",
    "        return self\n",
    "    def transform(self, X):\n",
    "        return X[self.key]\n",
    "    \n",
    "# Класс необходимый для получения работы с числовыми признаками\n",
    "class NumericalSelector(BaseEstimator, TransformerMixin):\n",
    "    def __init__(self, key):\n",
    "        self.key = key\n",
    "    def fit(self, X, y=None):\n",
    "        return self\n",
    "    def transform(self, X):\n",
    "        return X[[self.key]]\n",
    "    \n",
    "# Стеммер, работающий с русским языком\n",
    "from nltk.stem.snowball import SnowballStemmer\n",
    "stemmer = SnowballStemmer(\"russian\") \n",
    "\n",
    "# Функция стеммизации данных для образования однокоренных слов\n",
    "def stemming_tokenizer(text):\n",
    "    text = re.split('\\W+', text)\n",
    "    text = [stemmer.stem(word) for word in text]\n",
    "    return text\n",
    "\n",
    "import nltk\n",
    "from nltk.corpus import stopwords\n",
    "\n",
    "\n",
    "# Функция для очистки столбца \n",
    "def clean_data(df):\n",
    "    df = df.str.lower()\n",
    "    df.replace(r'[^а-яА-Яa-zA-Z0-9]', ' ', regex=True, inplace=True)\n",
    "    df = df.str.strip()\n",
    "    stop_words = stopwords.words(\"russian\")\n",
    "    df = df.apply(lambda x: ' '.join([word for word in x.split() if word not in (stop_words)]))\n",
    "    return df"
   ]
  },
  {
   "cell_type": "code",
   "execution_count": 4,
   "metadata": {},
   "outputs": [],
   "source": [
    "# Векторайзер\n",
    "feat = joblib.load('feat.z')\n",
    "#Текстовый трансформатор\n",
    "num = joblib.load('num.z')\n",
    "\n",
    "feat = FeatureUnion([('feat', feat),\n",
    "                    (\"num\", num)])"
   ]
  },
  {
   "cell_type": "code",
   "execution_count": 5,
   "metadata": {},
   "outputs": [],
   "source": [
    "def read(pred=False):\n",
    "    global df\n",
    "    g = geocoder.location(input('Где это произошло?'))\n",
    "    print(\"Вы знаете точные координаты\")\n",
    "    answer = input()\n",
    "    if (str(answer) == \"Да\" )|( str(answer) == 'да'):\n",
    "        lat = float(input(\"Введите latitude\"))\n",
    "        lon = float(input(\"Введите lonitude\"))\n",
    "    elif g.latitude == None:\n",
    "        print(\n",
    "            \"Ошибка в геокаддировании адреса, введите пожалуйста ширину и долготу\"\n",
    "        )\n",
    "        lat = float(input(\"Введите latitude\"))\n",
    "        lon = float(input(\"Введите lonitude\"))\n",
    "    else:\n",
    "        lat = g.latitude\n",
    "        lon = g.longitude\n",
    "    print(\"Это сегодня произошло? \")\n",
    "    answer = input()\n",
    "    if answer == \"Да\":\n",
    "        date = datetime.today()\n",
    "    else:\n",
    "        date = datetime.strptime(input(\"Введи дату в формате 18.08.21 18:00\"),\n",
    "                                 '%d.%m.%y %H:%M')\n",
    "    gibddid = input('Введите id происшествия, если есть ')\n",
    "    region = input('Введите region ')\n",
    "    parent_region = input('Введите parent region ')\n",
    "\n",
    "    feat = input(\n",
    "        \"Опишите ДТП (Что находилось рядом, освещение, состояние дороги)\")\n",
    "    inj = int(input('Сколько пострадавших? Ответ в числовом формате'))\n",
    "    dead = int(input('Сколько человек погибло? Ответ в числовом формате'))\n",
    "    intraction = int(4 * int(dead) + int(inj))\n",
    "    df_concat = pd.DataFrame([[\n",
    "        gibddid, region, parent_region, date, g.location, lat, lon, feat, inj,\n",
    "        dead, intraction\n",
    "    ]],\n",
    "                             columns=[\n",
    "                                 'gibddid', 'region', 'parent_region', 'date',\n",
    "                                 'address', 'lat', 'lon', 'feat', 'inj_count',\n",
    "                                 'dead_count', 'interaction'\n",
    "                             ])\n",
    "\n",
    "    if pred:\n",
    "        return df_concat\n",
    "    df = pd.concat([df, df_concat], axis=0\n",
    "                  )\n",
    "    print('Спасибо за ваше участие в опросе!')\n",
    "    df.reset_index()\n",
    "    "
   ]
  },
  {
   "cell_type": "code",
   "execution_count": 6,
   "metadata": {},
   "outputs": [
    {
     "name": "stdout",
     "output_type": "stream",
     "text": [
      "\n",
      "Бот: Вас приветствует Бот. Существует несколько команд:\n",
      "!exit - Выход из приложения\n",
      "!predict - Вывод блока компетенции по входным параметрам\n",
      "!datacollecting - Вывод компетенций по входным параметрам\n",
      "!help - Вывод существующих команд\n",
      "!skolko - узнать сколько участков\n",
      "\n"
     ]
    }
   ],
   "source": [
    "# Импорт модели классификации\n",
    "model = joblib.load('my_model.z')\n",
    "df=pd.read_csv('Data/test.csv', sep='\\t', encoding='UTF-16')\n",
    "\n",
    "u=\"\\nПользователь:\"\n",
    "b=\"\\nБот:\"\n",
    "\n",
    "# Приветствие\n",
    "welcome=(\"Вас приветствует Бот. Существует несколько команд:\\n\"\n",
    "\"!exit - Выход из приложения\\n\"\n",
    "\"!predict - Вывод блока компетенции по входным параметрам\\n\"\n",
    "\"!datacollecting - Вывод компетенций по входным параметрам\\n\"\n",
    "\"!help - Вывод существующих команд\\n\"\n",
    "\"!skolko - узнать сколько участков\\n\")\n",
    "\n",
    "print(b, welcome)\n"
   ]
  },
  {
   "cell_type": "code",
   "execution_count": null,
   "metadata": {
    "scrolled": true
   },
   "outputs": [],
   "source": [
    "# Непосредственно сам бот\n",
    "while True:\n",
    "    try:\n",
    "        input_text=input(u).lower()\n",
    "        # Команды бота\n",
    "        if any(word in input_text for word in (\"завершить\", \"выход\", \"конец\")):\n",
    "            print(b, \"Завершение работы \")\n",
    "        if any(word in input_text for word in (\"help\", \"умеешь\", \"команды\")):\n",
    "            print(b,welcome )\n",
    "        if any(word in input_text for word in (\"сколько\", \"городе\", \"проеду\")):\n",
    "            gor = input(\"Введите город, который вас интересует \")\n",
    "            level =input(\"введите уровень опасности \")\n",
    "            df = df[df['y'] == level]\n",
    "            print((df['features.properties.region']==gor).sum())\n",
    "            \n",
    "        if any(word in input_text for word in (\"какой\", \"предскажи\", \"узнать\")):\n",
    "         # Ввод данных\n",
    "            df = read(True)\n",
    "            X = feat.transform(df[['feat','interaction']])\n",
    "            if model.predict(X) ==[1]:\n",
    "                print('Участок средней опасности')\n",
    "            if model.predict(X) ==[0]:\n",
    "                print('Очень опасный участок')\n",
    "            if model.predict(X) ==[2]:\n",
    "                print('Добрый участок')\n",
    "            print(model.predict(X))\n",
    "        if input_text == \"!datacollecting\":\n",
    "            read()\n",
    "        if input_text == \"!exit\":\n",
    "            break\n",
    "    except:\n",
    "        print(\"Что-то погло не так\")\n"
   ]
  },
  {
   "cell_type": "code",
   "execution_count": null,
   "metadata": {},
   "outputs": [],
   "source": []
  },
  {
   "cell_type": "code",
   "execution_count": null,
   "metadata": {},
   "outputs": [],
   "source": []
  },
  {
   "cell_type": "code",
   "execution_count": null,
   "metadata": {},
   "outputs": [],
   "source": []
  },
  {
   "cell_type": "code",
   "execution_count": null,
   "metadata": {},
   "outputs": [],
   "source": []
  },
  {
   "cell_type": "code",
   "execution_count": null,
   "metadata": {},
   "outputs": [],
   "source": []
  },
  {
   "cell_type": "code",
   "execution_count": null,
   "metadata": {},
   "outputs": [],
   "source": []
  },
  {
   "cell_type": "code",
   "execution_count": null,
   "metadata": {},
   "outputs": [],
   "source": []
  },
  {
   "cell_type": "code",
   "execution_count": null,
   "metadata": {},
   "outputs": [],
   "source": []
  },
  {
   "cell_type": "code",
   "execution_count": null,
   "metadata": {},
   "outputs": [],
   "source": []
  },
  {
   "cell_type": "code",
   "execution_count": null,
   "metadata": {},
   "outputs": [],
   "source": []
  },
  {
   "cell_type": "code",
   "execution_count": null,
   "metadata": {},
   "outputs": [],
   "source": []
  },
  {
   "cell_type": "code",
   "execution_count": null,
   "metadata": {},
   "outputs": [],
   "source": []
  },
  {
   "cell_type": "code",
   "execution_count": null,
   "metadata": {},
   "outputs": [],
   "source": []
  },
  {
   "cell_type": "code",
   "execution_count": null,
   "metadata": {},
   "outputs": [],
   "source": []
  },
  {
   "cell_type": "code",
   "execution_count": null,
   "metadata": {},
   "outputs": [],
   "source": []
  },
  {
   "cell_type": "code",
   "execution_count": null,
   "metadata": {},
   "outputs": [],
   "source": []
  },
  {
   "cell_type": "code",
   "execution_count": null,
   "metadata": {},
   "outputs": [],
   "source": []
  },
  {
   "cell_type": "code",
   "execution_count": null,
   "metadata": {},
   "outputs": [],
   "source": [
    "import pandas as pd\n",
    "\n",
    "import pandas as pd\n",
    "import json\n",
    "from geopy.geocoders import Nominatim\n",
    "from datetime import datetime\n",
    "import geocoder\n",
    "path = 'Data/Data.csv'\n",
    "df = pd.DataFrame(columns=[\n",
    "    'gibddid', 'region', 'parent_region', 'date', 'address', 'lat', 'lon',\n",
    "    'feat', 'inj_count', 'dead_count', 'interaction'\n",
    "])\n",
    "\n",
    "\n",
    "def read(pred=False):\n",
    "    global df\n",
    "    g = geocoder.location(input('Где это произошло?'))\n",
    "    print(\"Вы знаете точные координаты\")\n",
    "    answer = input()\n",
    "    if (str(answer) == \"Да\" )|( str(answer) == 'да'):\n",
    "        lat = float(input(\"Введите latitude\"))\n",
    "        lon = float(input(\"Введите lonitude\"))\n",
    "    elif g.latitude == None:\n",
    "        print(\n",
    "            \"Ошибка в геокаддировании адреса, введите пожалуйста ширину и долготу\"\n",
    "        )\n",
    "        lat = float(input(\"Введите latitude\"))\n",
    "        lon = float(input(\"Введите lonitude\"))\n",
    "    else:\n",
    "        lat = g.latitude\n",
    "        lon = g.longitude\n",
    "    print(\"Это сегодня произошло? \")\n",
    "    answer = input()\n",
    "    if answer == \"Да\":\n",
    "        date = datetime.today()\n",
    "    else:\n",
    "        date = datetime.strptime(input(\"Введи дату в формате 18.08.21 18:00\"),\n",
    "                                 '%d.%m.%y %H:%M')\n",
    "    gibddid = input('Введите id происшествия, если есть ')\n",
    "    region = input('Введите region ')\n",
    "    parent_region = input('Введите parent region ')\n",
    "\n",
    "    feat = input(\n",
    "        \"Опишите ДТП (Что находилось рядом, освещение, состояние дороги)\")\n",
    "    inj = int(input('Сколько пострадавших? Ответ в числовом формате'))\n",
    "    dead = int(input('Сколько человек погибло? Ответ в числовом формате'))\n",
    "    intraction = int(4 * int(dead) + int(inj))\n",
    "    df_concat = pd.DataFrame([[\n",
    "        gibddid, region, parent_region, date, g.location, lat, lon, feat, inj,\n",
    "        dead, intraction\n",
    "    ]],\n",
    "                             columns=[\n",
    "                                 'gibddid', 'region', 'parent_region', 'date',\n",
    "                                 'address', 'lat', 'lon', 'feat', 'inj_count',\n",
    "                                 'dead_count', 'interaction'\n",
    "                             ])\n",
    "\n",
    "    if pred:\n",
    "        return df_concat\n",
    "    df = pd.concat([df, df_concat], axis=0\n",
    "                  )\n",
    "    print('Спасибо за ваше участие в опросе!')\n",
    "    df.reset_index()\n",
    "    "
   ]
  },
  {
   "cell_type": "code",
   "execution_count": null,
   "metadata": {},
   "outputs": [],
   "source": []
  }
 ],
 "metadata": {
  "kernelspec": {
   "display_name": "Python 3",
   "language": "python",
   "name": "python3"
  },
  "toc": {
   "base_numbering": 1,
   "nav_menu": {},
   "number_sections": true,
   "sideBar": true,
   "skip_h1_title": false,
   "title_cell": "Table of Contents",
   "title_sidebar": "Contents",
   "toc_cell": false,
   "toc_position": {},
   "toc_section_display": true,
   "toc_window_display": false
  },
  "varInspector": {
   "cols": {
    "lenName": 16,
    "lenType": 16,
    "lenVar": 40
   },
   "kernels_config": {
    "python": {
     "delete_cmd_postfix": "",
     "delete_cmd_prefix": "del ",
     "library": "var_list.py",
     "varRefreshCmd": "print(var_dic_list())"
    },
    "r": {
     "delete_cmd_postfix": ") ",
     "delete_cmd_prefix": "rm(",
     "library": "var_list.r",
     "varRefreshCmd": "cat(var_dic_list()) "
    }
   },
   "types_to_exclude": [
    "module",
    "function",
    "builtin_function_or_method",
    "instance",
    "_Feature"
   ],
   "window_display": false
  }
 },
 "nbformat": 4,
 "nbformat_minor": 4
}
